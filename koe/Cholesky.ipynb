{
 "cells": [
  {
   "cell_type": "code",
   "execution_count": 1,
   "metadata": {},
   "outputs": [],
   "source": [
    "import numpy as np"
   ]
  },
  {
   "cell_type": "code",
   "execution_count": 51,
   "metadata": {},
   "outputs": [],
   "source": [
    "def cholesky(A):\n",
    "    R = np.zeros_like(A)\n",
    "    \n",
    "    for i in range(len(A)):\n",
    "        l_11 = np.sqrt(A[0, 0])\n",
    "        l_21 = A[1:, 0] / l_11\n",
    "\n",
    "        R[i, i] = l_11\n",
    "        R[i + 1:, i] = l_21\n",
    "    \n",
    "        A = A[1:, 1:] - np.outer(l_21, l_21)\n",
    "    \n",
    "    return R\n",
    "\n",
    "def pos_def_symmetric(n):\n",
    "    A = np.random.rand(n, n)\n",
    "    B = np.dot(A, A.T) + np.eye(n) * 1e-6\n",
    "    \n",
    "    return B\n",
    "\n",
    "def forward_substitution(A, b):\n",
    "    # Note that A should be lower diagonal\n",
    "    x = np.zeros_like(b)\n",
    "    x[0] = b[0] / A[0, 0]\n",
    "    \n",
    "    for i in range(1, len(x)):\n",
    "        a_sum = np.dot(A[i, :i], x[:i]) \n",
    "        x[i] = (b[i] - a_sum) / A[i, i]\n",
    "\n",
    "    return x\n",
    "\n",
    "def backward_substitution(A, b):\n",
    "    # Note that A should be upper diagonal\n",
    "    x = np.zeros_like(b)\n",
    "    x[-1] = b[-1] / A[-1, -1]\n",
    "\n",
    "    for i in range(len(x) - 1)[::-1]:\n",
    "        a_sum = np.dot(A[i, i:], x[i:])\n",
    "        x[i] = (b[i] - a_sum) / A[i, i]\n",
    "\n",
    "    return x\n",
    "\n",
    "def solve(A, b):\n",
    "    R = cholesky(A)\n",
    "    y = forward_substitution(R, b)\n",
    "    x = backward_substitution(R.T, y)\n",
    "    \n",
    "    return x"
   ]
  },
  {
   "cell_type": "code",
   "execution_count": 52,
   "metadata": {},
   "outputs": [
    {
     "name": "stdout",
     "output_type": "stream",
     "text": [
      "195 µs ± 6.29 µs per loop (mean ± std. dev. of 7 runs, 1000 loops each)\n"
     ]
    }
   ],
   "source": [
    "A = pos_def_symmetric(10)\n",
    "b = 100 * np.random.random(size=(len(A), 1)).astype(np.float64)\n",
    "%timeit solve(A, b)"
   ]
  },
  {
   "cell_type": "code",
   "execution_count": 53,
   "metadata": {},
   "outputs": [
    {
     "name": "stdout",
     "output_type": "stream",
     "text": [
      "11.5 µs ± 124 ns per loop (mean ± std. dev. of 7 runs, 100000 loops each)\n"
     ]
    }
   ],
   "source": [
    "%timeit np.linalg.solve(A, b)"
   ]
  },
  {
   "cell_type": "code",
   "execution_count": null,
   "metadata": {},
   "outputs": [],
   "source": []
  }
 ],
 "metadata": {
  "kernelspec": {
   "display_name": "Python 3",
   "language": "python",
   "name": "python3"
  },
  "language_info": {
   "codemirror_mode": {
    "name": "ipython",
    "version": 3
   },
   "file_extension": ".py",
   "mimetype": "text/x-python",
   "name": "python",
   "nbconvert_exporter": "python",
   "pygments_lexer": "ipython3",
   "version": "3.6.4"
  }
 },
 "nbformat": 4,
 "nbformat_minor": 2
}
