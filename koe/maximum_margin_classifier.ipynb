{
 "cells": [
  {
   "cell_type": "code",
   "execution_count": 6,
   "metadata": {},
   "outputs": [],
   "source": [
    "import numpy as np\n",
    "import matplotlib.pyplot as plt\n",
    "%matplotlib inline\n",
    "from cvxopt import solvers, matrix"
   ]
  },
  {
   "cell_type": "code",
   "execution_count": 7,
   "metadata": {},
   "outputs": [],
   "source": [
    "def data(n_samples=10):\n",
    "    n_samples_per_class = n_samples // 2\n",
    "    x0 = np.random.rand(n_samples_per_class)\n",
    "    x1 = np.random.rand(n_samples_per_class)\n",
    "    y0 = x0 + 0.1 * np.random.randn(x0.shape[0])\n",
    "    y1 = x1 + 0.1 * np.random.randn(x1.shape[0]) + 1\n",
    "    \n",
    "    X0 = np.concatenate([x0.reshape(-1, 1), y0.reshape(-1, 1)], axis=1)\n",
    "    X1 = np.concatenate([x1.reshape(-1, 1), y1.reshape(-1, 1)], axis=1)\n",
    "    X = np.concatenate([X0, X1], axis=0)\n",
    "    y = np.concatenate([-np.ones(n_samples_per_class), np.ones(n_samples_per_class)])\n",
    "    \n",
    "    return X, y"
   ]
  },
  {
   "cell_type": "code",
   "execution_count": 8,
   "metadata": {},
   "outputs": [],
   "source": [
    "X, y = data(n_samples=100)"
   ]
  },
  {
   "cell_type": "code",
   "execution_count": 9,
   "metadata": {},
   "outputs": [
    {
     "data": {
      "text/plain": [
       "<matplotlib.collections.PathCollection at 0x1040dfef0>"
      ]
     },
     "execution_count": 9,
     "metadata": {},
     "output_type": "execute_result"
    },
    {
     "data": {
      "image/png": "[encoded data removed]",
      "text/plain": [
       "<matplotlib.figure.Figure at 0x10402d2b0>"
      ]
     },
     "metadata": {},
     "output_type": "display_data"
    }
   ],
   "source": [
    "plt.scatter(X[y == -1][:, 0], X[y == -1][:, 1])\n",
    "plt.scatter(X[y == 1][:, 0], X[y == 1][:, 1])"
   ]
  },
  {
   "cell_type": "code",
   "execution_count": 45,
   "metadata": {},
   "outputs": [],
   "source": [
    "class SVM:\n",
    "    def __init__(self):\n",
    "        pass\n",
    "    def kernel(self, x0, x1):\n",
    "#         d = x0 - x1\n",
    "#         d = np.exp(-np.dot(d, d.T))\n",
    "#         return d\n",
    "        d = np.dot(x0, x1) ** 2\n",
    "        return d\n",
    "        \n",
    "    def fit(self, X, y):\n",
    "        n_samples = len(X)\n",
    "        K = np.zeros((n_samples, n_samples))\n",
    "        for i in range(n_samples):\n",
    "            for j in range(i, n_samples):\n",
    "                K[i, j] = self.kernel(X[i], X[j])\n",
    "                K[j, i] = K[i, j]\n",
    "        \n",
    "        P = matrix(np.outer(y, y) * K, tc='d')\n",
    "        q = matrix(-np.ones(n_samples), tc='d')\n",
    "        G = matrix(-np.identity(n_samples), tc='d')\n",
    "        h = matrix(np.zeros(n_samples), tc='d')\n",
    "        A = matrix(y.reshape(1, -1), tc='d')\n",
    "        b = matrix(np.zeros(1), tc='d')\n",
    "        \n",
    "        solution = solvers.qp(P=P, q=q, G=G, h=h, A=A, b=b)\n",
    "        alphas = np.array(solution['x']).flatten()\n",
    "        self.support_vectors_indices = np.where(alphas > 1e-5)[0]\n",
    "        self.support_vectors = X[self.support_vectors_indices]\n",
    "        labels = y[self.support_vectors_indices]\n",
    "        alphas = alphas[self.support_vectors_indices]\n",
    "        self.alpha_labels = labels * alphas\n",
    "        self.w = np.dot(self.alpha_labels, self.support_vectors)\n",
    "\n",
    "        max_i = np.max(np.dot(self.support_vectors[labels == -1], self.w.T))\n",
    "        min_i = np.min(np.dot(self.support_vectors[labels == 1], self.w.T))\n",
    "        self.b = - (max_i + min_i) / 2\n",
    "        \n",
    "        return solution\n",
    "    \n",
    "    def predict(self, X):\n",
    "        return np.array(list(map(self.predict_one, X)))\n",
    "    \n",
    "    def predict_one(self, X):\n",
    "        k = np.zeros(len(self.support_vectors))\n",
    "        for i in range(self.support_vectors.shape[0]):\n",
    "            k[i] = self.kernel(self.support_vectors[i], X)\n",
    "        y_pred = np.dot(self.alpha_labels, k.reshape(-1, 1)) + self.b\n",
    "\n",
    "        return y_pred "
   ]
  },
  {
   "cell_type": "code",
   "execution_count": 46,
   "metadata": {},
   "outputs": [],
   "source": [
    "model = SVM()"
   ]
  },
  {
   "cell_type": "code",
   "execution_count": 47,
   "metadata": {},
   "outputs": [
    {
     "name": "stdout",
     "output_type": "stream",
     "text": [
      "     pcost       dcost       gap    pres   dres\n",
      " 0: -1.0966e+01 -2.4096e+01  3e+02  2e+01  2e+00\n",
      " 1: -9.5861e+00 -1.6969e+01  7e+01  4e+00  3e-01\n",
      " 2: -5.2566e+00 -1.3113e+01  2e+01  8e-01  8e-02\n",
      " 3: -5.4414e+00 -9.1067e+00  8e+00  3e-01  2e-02\n",
      " 4: -5.6472e+00 -8.5971e+00  3e+00  3e-15  3e-15\n",
      " 5: -7.3917e+00 -8.1996e+00  8e-01  5e-15  3e-15\n",
      " 6: -7.8995e+00 -7.9482e+00  5e-02  1e-15  3e-15\n",
      " 7: -7.9444e+00 -7.9449e+00  5e-04  2e-15  4e-15\n",
      " 8: -7.9449e+00 -7.9449e+00  5e-06  2e-15  3e-15\n",
      "Optimal solution found.\n"
     ]
    }
   ],
   "source": [
    "solution = model.fit(X, y)"
   ]
  },
  {
   "cell_type": "code",
   "execution_count": 48,
   "metadata": {},
   "outputs": [
    {
     "data": {
      "text/plain": [
       "array([-1.74992442,  4.35129411])"
      ]
     },
     "execution_count": 48,
     "metadata": {},
     "output_type": "execute_result"
    }
   ],
   "source": [
    "model.w"
   ]
  },
  {
   "cell_type": "code",
   "execution_count": 49,
   "metadata": {},
   "outputs": [
    {
     "data": {
      "image/png": "[encoded data removed]",
      "text/plain": [
       "<matplotlib.figure.Figure at 0x10518e518>"
      ]
     },
     "metadata": {},
     "output_type": "display_data"
    }
   ],
   "source": [
    "# Plotting decision regions\n",
    "x_min, x_max = X[:, 0].min() - 0.1, X[:, 0].max() + 0.1\n",
    "y_min, y_max = X[:, 1].min() - 0.1, X[:, 1].max() + 0.1\n",
    "xx, yy = np.meshgrid(np.arange(x_min, x_max, 0.1),\n",
    "                     np.arange(y_min, y_max, 0.1))\n",
    "\n",
    "f, axarr = plt.subplots(1, 1, sharex='col', sharey='row', figsize=(10, 8))\n",
    "\n",
    "Z = model.predict(np.c_[xx.ravel(), yy.ravel()])\n",
    "Z = Z.reshape(xx.shape)\n",
    "\n",
    "c = axarr.contourf(xx, yy, Z, alpha=0.4)\n",
    "axarr.scatter(X[:, 0], X[:, 1], c=y,\n",
    "                              s=20, edgecolor='k')\n",
    "axarr.set_title('SVM')\n",
    "cbar = f.colorbar(c)\n",
    "\n",
    "plt.show()"
   ]
  },
  {
   "cell_type": "code",
   "execution_count": 51,
   "metadata": {},
   "outputs": [
    {
     "data": {
      "text/plain": [
       "1.0"
      ]
     },
     "execution_count": 51,
     "metadata": {},
     "output_type": "execute_result"
    }
   ],
   "source": [
    "y[53]"
   ]
  },
  {
   "cell_type": "code",
   "execution_count": null,
   "metadata": {},
   "outputs": [],
   "source": []
  }
 ],
 "metadata": {
  "kernelspec": {
   "display_name": "Python 3",
   "language": "python",
   "name": "python3"
  },
  "language_info": {
   "codemirror_mode": {
    "name": "ipython",
    "version": 3
   },
   "file_extension": ".py",
   "mimetype": "text/x-python",
   "name": "python",
   "nbconvert_exporter": "python",
   "pygments_lexer": "ipython3",
   "version": "3.6.4"
  }
 },
 "nbformat": 4,
 "nbformat_minor": 2
}
