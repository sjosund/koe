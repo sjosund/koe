{
 "cells": [
  {
   "cell_type": "code",
   "execution_count": 236,
   "metadata": {},
   "outputs": [],
   "source": [
    "import matplotlib.pyplot as plt\n",
    "import numpy as np"
   ]
  },
  {
   "cell_type": "markdown",
   "metadata": {},
   "source": [
    "## Generate a symmetric matrix and use it as covariance matrix"
   ]
  },
  {
   "cell_type": "code",
   "execution_count": 237,
   "metadata": {},
   "outputs": [],
   "source": [
    "def random_covariance_matrix(n):\n",
    "    A = np.random.rand(n, n)\n",
    "    for i in range(n):\n",
    "        # Want to have variance 1.\n",
    "        A[i, i] = 1\n",
    "        for j in range(i):\n",
    "            A[i, j] = A[j, i] \n",
    "    return A"
   ]
  },
  {
   "cell_type": "code",
   "execution_count": 238,
   "metadata": {},
   "outputs": [
    {
     "data": {
      "text/plain": [
       "array([[1.        , 0.06154377, 0.20068334, 0.03183662, 0.95047332,\n",
       "        0.69382965, 0.24166106, 0.47595909, 0.26089299, 0.74348413],\n",
       "       [0.06154377, 1.        , 0.22686814, 0.46704246, 0.48567939,\n",
       "        0.01209721, 0.32667018, 0.83745685, 0.29698666, 0.16857704],\n",
       "       [0.20068334, 0.22686814, 1.        , 0.27835638, 0.3318606 ,\n",
       "        0.64406582, 0.85151453, 0.28745523, 0.86570082, 0.23376007],\n",
       "       [0.03183662, 0.46704246, 0.27835638, 1.        , 0.23524709,\n",
       "        0.83037491, 0.03181495, 0.12364383, 0.25882633, 0.06760781],\n",
       "       [0.95047332, 0.48567939, 0.3318606 , 0.23524709, 1.        ,\n",
       "        0.91575542, 0.1120372 , 0.69212089, 0.49993313, 0.43626608],\n",
       "       [0.69382965, 0.01209721, 0.64406582, 0.83037491, 0.91575542,\n",
       "        1.        , 0.97786315, 0.0534562 , 0.24278414, 0.60512412],\n",
       "       [0.24166106, 0.32667018, 0.85151453, 0.03181495, 0.1120372 ,\n",
       "        0.97786315, 1.        , 0.65415524, 0.60385915, 0.80593793],\n",
       "       [0.47595909, 0.83745685, 0.28745523, 0.12364383, 0.69212089,\n",
       "        0.0534562 , 0.65415524, 1.        , 0.62433858, 0.14145495],\n",
       "       [0.26089299, 0.29698666, 0.86570082, 0.25882633, 0.49993313,\n",
       "        0.24278414, 0.60385915, 0.62433858, 1.        , 0.94415649],\n",
       "       [0.74348413, 0.16857704, 0.23376007, 0.06760781, 0.43626608,\n",
       "        0.60512412, 0.80593793, 0.14145495, 0.94415649, 1.        ]])"
      ]
     },
     "execution_count": 238,
     "metadata": {},
     "output_type": "execute_result"
    }
   ],
   "source": [
    "n_dims = 10\n",
    "cov = random_covariance_matrix(n_dims)\n",
    "cov"
   ]
  },
  {
   "cell_type": "code",
   "execution_count": 239,
   "metadata": {},
   "outputs": [
    {
     "name": "stderr",
     "output_type": "stream",
     "text": [
      "/Users/sjosund/.virtualenvs/koe/lib/python3.6/site-packages/ipykernel_launcher.py:2: RuntimeWarning: covariance is not positive-semidefinite.\n",
      "  \n"
     ]
    },
    {
     "data": {
      "text/plain": [
       "<matplotlib.collections.PathCollection at 0x110f3f2b0>"
      ]
     },
     "execution_count": 239,
     "metadata": {},
     "output_type": "execute_result"
    },
    {
     "data": {
      "image/png": "[encoded data removed]",
      "text/plain": [
       "<matplotlib.figure.Figure at 0x110f03a58>"
      ]
     },
     "metadata": {},
     "output_type": "display_data"
    }
   ],
   "source": [
    "n_examples = 321\n",
    "X = np.random.multivariate_normal(mean=np.zeros(n_dims), cov=cov, size=n_examples)\n",
    "plt.scatter(X[:, 0], X[:, 1])"
   ]
  },
  {
   "cell_type": "markdown",
   "metadata": {},
   "source": [
    "## PCA"
   ]
  },
  {
   "cell_type": "code",
   "execution_count": 247,
   "metadata": {},
   "outputs": [],
   "source": [
    "class PCA:\n",
    "    def __init__(self):\n",
    "        self.eigenvectors = None\n",
    "        self.eigenvalues = None\n",
    "\n",
    "    def fit(self, X):\n",
    "        C = np.dot(X.T, X) / (len(X) - 1)  # Unbiased estimate.\n",
    "        eig_val, eig_vec = np.linalg.eigh(C)\n",
    "        sorted_indices = np.argsort(eig_val)[::-1]\n",
    "        self.eigenvectors = eig_vec[:, sorted_indices]\n",
    "        self.eigenvalues = eig_val[sorted_indices]\n",
    "    \n",
    "    def transform(self, x, n_components):\n",
    "        projection = np.dot(\n",
    "            self.eigenvectors[:, :n_components],\n",
    "            np.dot(self.eigenvectors[:, :n_components].T, x.T)\n",
    "        ).T\n",
    "        return projection\n",
    "    \n",
    "    def percent_of_variance(self):\n",
    "        return np.cumsum(self.eigenvalues) / np.sum(self.eigenvalues)"
   ]
  },
  {
   "cell_type": "code",
   "execution_count": 248,
   "metadata": {},
   "outputs": [],
   "source": [
    "pca = PCA()\n",
    "pca.fit(X)"
   ]
  },
  {
   "cell_type": "code",
   "execution_count": 249,
   "metadata": {},
   "outputs": [],
   "source": [
    "X_t = pca.transform(X, n_components=1)"
   ]
  },
  {
   "cell_type": "code",
   "execution_count": 250,
   "metadata": {},
   "outputs": [
    {
     "data": {
      "text/plain": [
       "<matplotlib.collections.PathCollection at 0x111204be0>"
      ]
     },
     "execution_count": 250,
     "metadata": {},
     "output_type": "execute_result"
    },
    {
     "data": {
      "image/png": "[encoded data removed]",
      "text/plain": [
       "<matplotlib.figure.Figure at 0x1111e00b8>"
      ]
     },
     "metadata": {},
     "output_type": "display_data"
    }
   ],
   "source": [
    "plt.scatter(X_t[:, 0], X_t[:, 1])"
   ]
  },
  {
   "cell_type": "markdown",
   "metadata": {},
   "source": [
    "### How much of the variance is captured by each principal component?"
   ]
  },
  {
   "cell_type": "code",
   "execution_count": 251,
   "metadata": {},
   "outputs": [
    {
     "data": {
      "text/plain": [
       "[<matplotlib.lines.Line2D at 0x11131c128>]"
      ]
     },
     "execution_count": 251,
     "metadata": {},
     "output_type": "execute_result"
    },
    {
     "data": {
      "image/png": "[encoded data removed]",
      "text/plain": [
       "<matplotlib.figure.Figure at 0x1111ed748>"
      ]
     },
     "metadata": {},
     "output_type": "display_data"
    }
   ],
   "source": [
    "plt.plot(pca.percent_of_variance())"
   ]
  }
 ],
 "metadata": {
  "kernelspec": {
   "display_name": "Python 3",
   "language": "python",
   "name": "python3"
  },
  "language_info": {
   "codemirror_mode": {
    "name": "ipython",
    "version": 3
   },
   "file_extension": ".py",
   "mimetype": "text/x-python",
   "name": "python",
   "nbconvert_exporter": "python",
   "pygments_lexer": "ipython3",
   "version": "3.6.4"
  }
 },
 "nbformat": 4,
 "nbformat_minor": 2
}
