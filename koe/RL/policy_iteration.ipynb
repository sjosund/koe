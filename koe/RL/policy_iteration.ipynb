{
 "cells": [
  {
   "cell_type": "markdown",
   "metadata": {},
   "source": [
    "# Car store problem from DM RL course"
   ]
  },
  {
   "cell_type": "markdown",
   "metadata": {},
   "source": [
    "1. Evaluate policy pi\n",
    "2. Improve pi greedily"
   ]
  },
  {
   "cell_type": "code",
   "execution_count": 1,
   "metadata": {},
   "outputs": [],
   "source": [
    "from functools import partial\n",
    "from itertools import product\n",
    "\n",
    "import matplotlib.pyplot as plt\n",
    "%matplotlib inline\n",
    "import numpy as np\n",
    "from tqdm import tqdm"
   ]
  },
  {
   "cell_type": "code",
   "execution_count": 2,
   "metadata": {},
   "outputs": [],
   "source": [
    "reward = 10\n",
    "cost_move = 2\n",
    "gamma = 0.9\n",
    "max_cars = 20"
   ]
  },
  {
   "cell_type": "code",
   "execution_count": 3,
   "metadata": {},
   "outputs": [],
   "source": [
    "poisson_p = lambda k, l: l**k * np.exp(-l) / np.math.factorial(k)\n",
    "poisson_p_range = lambda l: [poisson_p(l=l, k=k) for k in range(max_cars + 1)]\n",
    "\n",
    "p1_rental = poisson_p_range(3)\n",
    "p2_rental = poisson_p_range(4)\n",
    "\n",
    "p1_return = poisson_p_range(3)\n",
    "p2_return = poisson_p_range(2)\n",
    "\n"
   ]
  },
  {
   "cell_type": "code",
   "execution_count": 4,
   "metadata": {},
   "outputs": [],
   "source": [
    "epsilon = 1\n",
    "\n",
    "def policy_evaluation(policy, value_function, states):\n",
    "    while True:\n",
    "        delta = 0\n",
    "        for state in tqdm(states):\n",
    "            current_v = value_function[state[0], state[1]]\n",
    "            value_function[state[0], state[1]] = value_function_given_action(\n",
    "                state,\n",
    "                policy[state[0], state[1]],\n",
    "                value_function\n",
    "            )\n",
    "            delta = max(\n",
    "                delta,\n",
    "                abs(current_v - value_function[state[0], state[1]])\n",
    "            )\n",
    "        if delta < epsilon:\n",
    "            break\n",
    "\n",
    "    return value_function\n",
    "\n",
    "\n",
    "# q-function, no?\n",
    "def value_function_given_action(state, action, value_function):\n",
    "    new_v = 0\n",
    "    new_v -= np.abs(action) * cost_move\n",
    "    after_night_state = [\n",
    "        min(max_cars, state[0] - action),\n",
    "        min(max_cars, state[1] + action)\n",
    "    ]\n",
    "\n",
    "    for n_rentals_1 in range(0, int(after_night_state[0])):\n",
    "        s1 = int(after_night_state[0] - n_rentals_1)\n",
    "        for n_returns_1 in range(10):#range(max_cars - s1):\n",
    "            p1 = p1_rental[n_rentals_1] * p1_return[n_returns_1]\n",
    "            r1 = n_rentals_1 * reward\n",
    "            s1 = min(max_cars, s1 + n_returns_1)\n",
    "\n",
    "            for n_rentals_2 in range(0, int(after_night_state[1])):\n",
    "                s2 = int(after_night_state[1] - n_rentals_2)\n",
    "                for n_returns_2 in range(10):#range(max_cars - s2):\n",
    "                    p2 = p2_rental[n_rentals_2] * p2_return[n_returns_2]\n",
    "                    r2 = n_rentals_2 * reward\n",
    "                    s2 = min(max_cars, s2 + n_returns_2)\n",
    "\n",
    "                    new_v += (p1 * p2 * (r1 + r2 + gamma * value_function[s1, s2]))\n",
    "    return new_v"
   ]
  },
  {
   "cell_type": "code",
   "execution_count": 18,
   "metadata": {},
   "outputs": [
    {
     "data": {
      "text/plain": [
       "0.007566654960414142"
      ]
     },
     "execution_count": 18,
     "metadata": {},
     "output_type": "execute_result"
    }
   ],
   "source": [
    "poisson_p(3, 10)"
   ]
  },
  {
   "cell_type": "code",
   "execution_count": 5,
   "metadata": {},
   "outputs": [],
   "source": [
    "initial_policy = np.zeros((21, 21))\n",
    "initial_value_function = np.zeros((21, 21))\n",
    "states = list(product(range(21), range(21)))"
   ]
  },
  {
   "cell_type": "code",
   "execution_count": 35,
   "metadata": {},
   "outputs": [
    {
     "name": "stderr",
     "output_type": "stream",
     "text": [
      "100%|██████████| 441/441 [00:04<00:00, 89.12it/s]\n",
      " 17%|█▋        | 75/441 [00:00<00:00, 728.57it/s]"
     ]
    },
    {
     "name": "stdout",
     "output_type": "stream",
     "text": [
      "143.34159999863127\n"
     ]
    },
    {
     "name": "stderr",
     "output_type": "stream",
     "text": [
      "100%|██████████| 441/441 [00:04<00:00, 92.08it/s]\n",
      " 17%|█▋        | 73/441 [00:00<00:00, 711.60it/s]"
     ]
    },
    {
     "name": "stdout",
     "output_type": "stream",
     "text": [
      "115.43667866655187\n"
     ]
    },
    {
     "name": "stderr",
     "output_type": "stream",
     "text": [
      "100%|██████████| 441/441 [00:05<00:00, 86.10it/s]\n",
      " 17%|█▋        | 76/441 [00:00<00:00, 748.63it/s]"
     ]
    },
    {
     "name": "stdout",
     "output_type": "stream",
     "text": [
      "86.81255883204295\n"
     ]
    },
    {
     "name": "stderr",
     "output_type": "stream",
     "text": [
      "100%|██████████| 441/441 [00:04<00:00, 89.19it/s]\n",
      " 17%|█▋        | 76/441 [00:00<00:00, 737.57it/s]"
     ]
    },
    {
     "name": "stdout",
     "output_type": "stream",
     "text": [
      "66.00639940453237\n"
     ]
    },
    {
     "name": "stderr",
     "output_type": "stream",
     "text": [
      "100%|██████████| 441/441 [00:04<00:00, 91.95it/s]\n",
      " 17%|█▋        | 76/441 [00:00<00:00, 741.95it/s]"
     ]
    },
    {
     "name": "stdout",
     "output_type": "stream",
     "text": [
      "49.23211142253405\n"
     ]
    },
    {
     "name": "stderr",
     "output_type": "stream",
     "text": [
      "100%|██████████| 441/441 [00:05<00:00, 86.62it/s]\n",
      " 17%|█▋        | 76/441 [00:00<00:00, 740.87it/s]"
     ]
    },
    {
     "name": "stdout",
     "output_type": "stream",
     "text": [
      "35.99958576730381\n"
     ]
    },
    {
     "name": "stderr",
     "output_type": "stream",
     "text": [
      "100%|██████████| 441/441 [00:04<00:00, 92.05it/s]\n",
      " 18%|█▊        | 78/441 [00:00<00:00, 761.10it/s]"
     ]
    },
    {
     "name": "stdout",
     "output_type": "stream",
     "text": [
      "26.073928939787436\n"
     ]
    },
    {
     "name": "stderr",
     "output_type": "stream",
     "text": [
      "100%|██████████| 441/441 [00:04<00:00, 88.68it/s]\n",
      " 17%|█▋        | 75/441 [00:00<00:00, 734.96it/s]"
     ]
    },
    {
     "name": "stdout",
     "output_type": "stream",
     "text": [
      "18.83220965158216\n"
     ]
    },
    {
     "name": "stderr",
     "output_type": "stream",
     "text": [
      "100%|██████████| 441/441 [00:04<00:00, 89.59it/s]\n",
      " 17%|█▋        | 76/441 [00:00<00:00, 754.64it/s]"
     ]
    },
    {
     "name": "stdout",
     "output_type": "stream",
     "text": [
      "13.584457158546115\n"
     ]
    },
    {
     "name": "stderr",
     "output_type": "stream",
     "text": [
      "100%|██████████| 441/441 [00:04<00:00, 91.15it/s]"
     ]
    },
    {
     "name": "stdout",
     "output_type": "stream",
     "text": [
      "9.795536514230605\n"
     ]
    },
    {
     "name": "stderr",
     "output_type": "stream",
     "text": [
      "\n"
     ]
    }
   ],
   "source": [
    "value_function = policy_evaluation(\n",
    "    policy=initial_policy,\n",
    "    value_function=initial_value_function,\n",
    "    states=states)"
   ]
  },
  {
   "cell_type": "code",
   "execution_count": 37,
   "metadata": {},
   "outputs": [
    {
     "data": {
      "text/plain": [
       "<matplotlib.image.AxesImage at 0x1073935c0>"
      ]
     },
     "execution_count": 37,
     "metadata": {},
     "output_type": "execute_result"
    },
    {
     "data": {
      "image/png": "[encoded data removed]",
      "text/plain": [
       "<matplotlib.figure.Figure at 0x1085585c0>"
      ]
     },
     "metadata": {},
     "output_type": "display_data"
    }
   ],
   "source": [
    "plt.imshow(value_function)"
   ]
  },
  {
   "cell_type": "markdown",
   "metadata": {},
   "source": [
    "## Policy improvement"
   ]
  },
  {
   "cell_type": "code",
   "execution_count": 5,
   "metadata": {},
   "outputs": [],
   "source": [
    "def policy_improvement(policy, states, value_function):\n",
    "    stable = True\n",
    "    for state in tqdm(states):\n",
    "        old_action = policy[state[0], state[1]]\n",
    "        actions = list(range(\n",
    "            max(-5, -state[0]),\n",
    "            min(5, state[1]) + 1\n",
    "        ))\n",
    "        q = [value_function_given_action(\n",
    "            state=state,\n",
    "            action=action,\n",
    "            value_function=value_function\n",
    "        ) for action in actions]\n",
    "        policy[state[0], state[1]] = actions[np.argmax(q)]\n",
    "        if old_action != policy[state[0], state[1]]:\n",
    "            stable = False\n",
    "\n",
    "    return policy, stable"
   ]
  },
  {
   "cell_type": "code",
   "execution_count": 39,
   "metadata": {},
   "outputs": [
    {
     "name": "stderr",
     "output_type": "stream",
     "text": [
      "100%|██████████| 441/441 [00:47<00:00,  9.27it/s]\n"
     ]
    }
   ],
   "source": [
    "policy, stable = policy_improvement(policy=initial_policy, states=states, value_function=value_function)"
   ]
  },
  {
   "cell_type": "code",
   "execution_count": 40,
   "metadata": {},
   "outputs": [
    {
     "data": {
      "text/plain": [
       "<matplotlib.image.AxesImage at 0x10807f438>"
      ]
     },
     "execution_count": 40,
     "metadata": {},
     "output_type": "execute_result"
    },
    {
     "data": {
      "image/png": "[encoded data removed]",
      "text/plain": [
       "<matplotlib.figure.Figure at 0x1073555f8>"
      ]
     },
     "metadata": {},
     "output_type": "display_data"
    }
   ],
   "source": [
    "plt.imshow(policy)"
   ]
  },
  {
   "cell_type": "markdown",
   "metadata": {},
   "source": [
    "## Putting it together"
   ]
  },
  {
   "cell_type": "code",
   "execution_count": 6,
   "metadata": {},
   "outputs": [
    {
     "name": "stderr",
     "output_type": "stream",
     "text": [
      "100%|██████████| 441/441 [00:05<00:00, 88.01it/s]\n",
      "100%|██████████| 441/441 [00:04<00:00, 88.87it/s]\n",
      "100%|██████████| 441/441 [00:04<00:00, 90.81it/s]\n",
      "100%|██████████| 441/441 [00:04<00:00, 90.62it/s]\n",
      "100%|██████████| 441/441 [00:05<00:00, 87.94it/s]\n",
      "100%|██████████| 441/441 [00:06<00:00, 70.85it/s]\n",
      "100%|██████████| 441/441 [00:05<00:00, 81.68it/s]\n",
      "100%|██████████| 441/441 [00:04<00:00, 88.80it/s]\n",
      "100%|██████████| 441/441 [00:04<00:00, 90.27it/s]\n",
      "100%|██████████| 441/441 [00:05<00:00, 84.24it/s]\n",
      "100%|██████████| 441/441 [00:05<00:00, 86.37it/s]\n",
      "100%|██████████| 441/441 [00:05<00:00, 80.09it/s]\n",
      "100%|██████████| 441/441 [00:05<00:00, 78.60it/s]\n",
      "100%|██████████| 441/441 [00:04<00:00, 89.00it/s]\n",
      "100%|██████████| 441/441 [00:05<00:00, 84.81it/s]\n",
      "100%|██████████| 441/441 [00:05<00:00, 87.49it/s]\n",
      "100%|██████████| 441/441 [00:05<00:00, 88.05it/s]\n",
      "100%|██████████| 441/441 [00:49<00:00,  8.97it/s]\n",
      "100%|██████████| 441/441 [00:06<00:00, 63.86it/s]\n",
      "100%|██████████| 441/441 [00:06<00:00, 64.87it/s]\n",
      "100%|██████████| 441/441 [00:05<00:00, 75.47it/s]\n",
      "100%|██████████| 441/441 [00:06<00:00, 70.00it/s]\n",
      "100%|██████████| 441/441 [00:05<00:00, 78.43it/s]\n",
      "100%|██████████| 441/441 [00:05<00:00, 78.72it/s]\n",
      "100%|██████████| 441/441 [00:05<00:00, 78.35it/s]\n",
      "100%|██████████| 441/441 [00:05<00:00, 79.13it/s]\n",
      "100%|██████████| 441/441 [00:06<00:00, 73.48it/s]\n",
      "100%|██████████| 441/441 [00:05<00:00, 77.43it/s]\n",
      "100%|██████████| 441/441 [00:05<00:00, 73.85it/s]\n",
      "100%|██████████| 441/441 [00:06<00:00, 72.28it/s]\n",
      "100%|██████████| 441/441 [00:05<00:00, 74.24it/s]\n",
      "100%|██████████| 441/441 [00:05<00:00, 78.79it/s]\n",
      "100%|██████████| 441/441 [00:06<00:00, 69.48it/s]\n",
      "100%|██████████| 441/441 [00:05<00:00, 74.69it/s]\n",
      "100%|██████████| 441/441 [00:06<00:00, 68.90it/s]\n",
      "100%|██████████| 441/441 [00:06<00:00, 72.99it/s]\n",
      "100%|██████████| 441/441 [00:47<00:00,  9.27it/s]\n",
      "100%|██████████| 441/441 [00:05<00:00, 77.04it/s]\n",
      "100%|██████████| 441/441 [00:05<00:00, 79.99it/s]\n",
      "100%|██████████| 441/441 [00:05<00:00, 78.65it/s]\n",
      "100%|██████████| 441/441 [00:05<00:00, 80.94it/s]\n",
      "100%|██████████| 441/441 [00:05<00:00, 79.91it/s]\n",
      "100%|██████████| 441/441 [00:05<00:00, 80.90it/s]\n",
      "100%|██████████| 441/441 [00:05<00:00, 77.69it/s]\n",
      "100%|██████████| 441/441 [00:05<00:00, 80.53it/s]\n",
      "100%|██████████| 441/441 [00:05<00:00, 81.08it/s]\n",
      "100%|██████████| 441/441 [00:48<00:00,  9.10it/s]\n",
      "100%|██████████| 441/441 [00:05<00:00, 81.83it/s]\n",
      "100%|██████████| 441/441 [00:05<00:00, 78.58it/s]\n",
      "100%|██████████| 441/441 [00:49<00:00,  8.99it/s]\n"
     ]
    }
   ],
   "source": [
    "policy = np.zeros((21, 21))\n",
    "value_function = np.zeros((21, 21))\n",
    "states = list(product(range(21), range(21)))\n",
    "\n",
    "# f, axs = plt.subplots(2, 3, figsize=(18, 6))\n",
    "\n",
    "while True:\n",
    "    value_function = policy_evaluation(\n",
    "        policy=policy,\n",
    "        value_function=value_function,\n",
    "        states=states)\n",
    "    policy, stable = policy_improvement(\n",
    "        policy=policy,\n",
    "        value_function=value_function,\n",
    "        states=states)\n",
    "    if stable:\n",
    "        break\n",
    "        "
   ]
  },
  {
   "cell_type": "code",
   "execution_count": 7,
   "metadata": {},
   "outputs": [
    {
     "data": {
      "text/plain": [
       "<matplotlib.colorbar.Colorbar at 0x10c36b518>"
      ]
     },
     "execution_count": 7,
     "metadata": {},
     "output_type": "execute_result"
    },
    {
     "data": {
      "image/png": "[encoded data removed]",
      "text/plain": [
       "<matplotlib.figure.Figure at 0x10c2ccf98>"
      ]
     },
     "metadata": {},
     "output_type": "display_data"
    }
   ],
   "source": [
    "plt.imshow(policy, origin='lower')\n",
    "plt.colorbar()"
   ]
  },
  {
   "cell_type": "markdown",
   "metadata": {},
   "source": [
    "Looks a bit different from the plots in the book. Find the bug."
   ]
  },
  {
   "cell_type": "code",
   "execution_count": 11,
   "metadata": {},
   "outputs": [
    {
     "data": {
      "text/plain": [
       "<matplotlib.image.AxesImage at 0x10ca61160>"
      ]
     },
     "execution_count": 11,
     "metadata": {},
     "output_type": "execute_result"
    },
    {
     "data": {
      "image/png": "[encoded data removed]",
      "text/plain": [
       "<matplotlib.figure.Figure at 0x10ca5d390>"
      ]
     },
     "metadata": {},
     "output_type": "display_data"
    }
   ],
   "source": [
    "plt.imshow(value_function, origin='lower')"
   ]
  },
  {
   "cell_type": "code",
   "execution_count": null,
   "metadata": {},
   "outputs": [],
   "source": []
  }
 ],
 "metadata": {
  "kernelspec": {
   "display_name": "Python 3",
   "language": "python",
   "name": "python3"
  },
  "language_info": {
   "codemirror_mode": {
    "name": "ipython",
    "version": 3
   },
   "file_extension": ".py",
   "mimetype": "text/x-python",
   "name": "python",
   "nbconvert_exporter": "python",
   "pygments_lexer": "ipython3",
   "version": "3.6.5"
  }
 },
 "nbformat": 4,
 "nbformat_minor": 2
}
