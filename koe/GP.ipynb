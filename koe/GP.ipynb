{
 "cells": [
  {
   "cell_type": "code",
   "execution_count": 1,
   "metadata": {},
   "outputs": [],
   "source": [
    "import matplotlib.pyplot as plt\n",
    "import numpy as np\n",
    "from scipy.special import gamma, jv"
   ]
  },
  {
   "cell_type": "code",
   "execution_count": 166,
   "metadata": {},
   "outputs": [],
   "source": [
    "def generate_data(n=20):\n",
    "    X = 10 * np.random.random(size=n).reshape(-1, 1)\n",
    "#     y = np.sin(X).reshape(-1, 1) + 0.1 * np.random.randn()\n",
    "    y = 2 * X + 1 * np.random.randn(len(X), 1)\n",
    "    \n",
    "    return X, y"
   ]
  },
  {
   "cell_type": "code",
   "execution_count": 167,
   "metadata": {},
   "outputs": [],
   "source": [
    "X, y = generate_data()"
   ]
  },
  {
   "cell_type": "code",
   "execution_count": 168,
   "metadata": {},
   "outputs": [
    {
     "data": {
      "text/plain": [
       "<matplotlib.collections.PathCollection at 0x109af89b0>"
      ]
     },
     "execution_count": 168,
     "metadata": {},
     "output_type": "execute_result"
    },
    {
     "data": {
      "image/png": "[encoded data removed]",
      "text/plain": [
       "<matplotlib.figure.Figure at 0x109bdcb38>"
      ]
     },
     "metadata": {},
     "output_type": "display_data"
    }
   ],
   "source": [
    "plt.scatter(X, y)"
   ]
  },
  {
   "cell_type": "code",
   "execution_count": 169,
   "metadata": {},
   "outputs": [],
   "source": [
    "def squared_exponential_kernel(x1, x2, theta):\n",
    "    return np.exp(-1/(2 * theta**2) * (x1 - x2)**2)\n",
    "\n",
    "def matern_kernel(x1, x2, p):\n",
    "    k = 1 / (2**(p - 1) * gamma(p))\n",
    "    x = 2 * np.sqrt(p) * np.linalg.norm(x1 - x2)\n",
    "    f1 = x**p\n",
    "    f2 = jv(p, x)\n",
    "    return k * f1 * f2\n",
    "\n",
    "def compute_K(X, kernel):\n",
    "    K = np.zeros((X.shape[0], X.shape[0]))\n",
    "    for i in range(X.shape[0]):\n",
    "        for j in range(i, X.shape[0]):\n",
    "            K[i, j] = kernel(X[i], X[j])\n",
    "            K[j, i] = K[i, j]\n",
    "    return K\n",
    "\n",
    "def compute_k_new_observation(X, x_new, kernel):\n",
    "    k = np.array([kernel(x_new, x) for x in X]).reshape(-1, 1)\n",
    "    return k\n",
    "\n",
    "def compute_mean(k, K_inv, f):\n",
    "    return np.dot(k.T, np.dot(K_inv, f))\n",
    "\n",
    "def compute_variance(x_new, k, K_inv, kernel):\n",
    "    return kernel(x_new, x_new) - np.dot(k.T, np.dot(K_inv, k))"
   ]
  },
  {
   "cell_type": "code",
   "execution_count": 170,
   "metadata": {},
   "outputs": [],
   "source": [
    "from functools import partial\n",
    "\n",
    "kernel = partial(matern_kernel, p=0.07196947)\n",
    "K = compute_K(X, kernel=kernel)\n",
    "K_inv = np.linalg.inv(K)"
   ]
  },
  {
   "cell_type": "code",
   "execution_count": 171,
   "metadata": {},
   "outputs": [],
   "source": [
    "def compute_mean_var(x_new, kernel):\n",
    "    k = compute_k_new_observation(X, x_new, kernel=kernel)\n",
    "    return compute_mean(k=k, K_inv=K_inv, f=y), compute_variance(x_new=x_new, k=k, K_inv=K_inv, kernel=kernel)"
   ]
  },
  {
   "cell_type": "code",
   "execution_count": 172,
   "metadata": {},
   "outputs": [],
   "source": [
    "def plot_in_range(start, stop, kernel):\n",
    "    X_new = np.arange(start, stop, 0.01)\n",
    "    means_sigmas = [compute_mean_var(x, kernel=kernel) for x in X_new]\n",
    "    means = np.concatenate(list(zip(*means_sigmas))[0]).reshape(-1, 1)\n",
    "    sigmas = np.concatenate(list(zip(*means_sigmas))[1]).reshape(-1, 1)\n",
    "    \n",
    "    plt.plot(X_new, means)\n",
    "    plt.fill_between(\n",
    "        X_new,\n",
    "        (means - sigmas).reshape(-1),\n",
    "        (means + sigmas).reshape(-1),\n",
    "        alpha=0.1\n",
    "    )\n",
    "    plt.scatter(X, y)"
   ]
  },
  {
   "cell_type": "markdown",
   "metadata": {},
   "source": [
    "### Find the optimal parameters for our covariance function by maximizing log(p(y|x, theta))"
   ]
  },
  {
   "cell_type": "code",
   "execution_count": 173,
   "metadata": {},
   "outputs": [
    {
     "data": {
      "text/plain": [
       "<matplotlib.collections.PathCollection at 0x10a496cc0>"
      ]
     },
     "execution_count": 173,
     "metadata": {},
     "output_type": "execute_result"
    },
    {
     "data": {
      "image/png": "[encoded data removed]",
      "text/plain": [
       "<matplotlib.figure.Figure at 0x10ad9bc88>"
      ]
     },
     "metadata": {},
     "output_type": "display_data"
    }
   ],
   "source": [
    "X, y = generate_data(n=10)\n",
    "plt.scatter(X, y)"
   ]
  },
  {
   "cell_type": "code",
   "execution_count": 174,
   "metadata": {},
   "outputs": [],
   "source": [
    "def log_p(theta):\n",
    "    n = 1\n",
    "    if theta == 0:\n",
    "        return 0.\n",
    "    kernel = partial(matern_kernel, p=theta)\n",
    "#     kernel = partial(squared_exponential_kernel, theta=theta)\n",
    "    K = compute_K(X, kernel=kernel)\n",
    "    K_inv = np.linalg.inv(K)\n",
    "\n",
    "    t1 = -1/2 * np.dot(y.T, np.dot(K_inv, y))\n",
    "    t2 = - 1/ 2 * np.linalg.det(K)\n",
    "    t3 = - n / 2 * np.log(2 * np.pi)\n",
    "\n",
    "    print(t1)\n",
    "    print(t2)\n",
    "    print(t3)\n",
    "    _log_p = t1 + t2 + t3\n",
    "    \n",
    "    return -_log_p"
   ]
  },
  {
   "cell_type": "code",
   "execution_count": 175,
   "metadata": {},
   "outputs": [],
   "source": [
    "from scipy.optimize import minimize_scalar"
   ]
  },
  {
   "cell_type": "code",
   "execution_count": 180,
   "metadata": {},
   "outputs": [
    {
     "name": "stdout",
     "output_type": "stream",
     "text": [
      "[[-1.85564198]]\n",
      "-1.5099500836715401e+19\n",
      "-0.9189385332046727\n",
      "[[-4.22024228]]\n",
      "1.0546024814227753e+35\n",
      "-0.9189385332046727\n",
      "[[-2.80592971]]\n",
      "2.4497971959175873e+42\n",
      "-0.9189385332046727\n",
      "[[-0.92652277]]\n",
      "2.7320335085924507e+46\n",
      "-0.9189385332046727\n",
      "[[-0.21837248]]\n",
      "1.0242372517836692e+49\n",
      "-0.9189385332046727\n",
      "[[-0.0594229]]\n",
      "3.898848282843876e+50\n",
      "-0.9189385332046727\n",
      "[[-0.01309453]]\n",
      "3.535436310810904e+51\n",
      "-0.9189385332046727\n",
      "[[0.00482545]]\n",
      "1.3469830096487697e+52\n",
      "-0.9189385332046727\n",
      "[[0.01318255]]\n",
      "3.0435245013298977e+52\n",
      "-0.9189385332046727\n",
      "[[0.01754675]]\n",
      "5.01219076287952e+52\n",
      "-0.9189385332046727\n",
      "[[0.01998419]]\n",
      "6.808443003997309e+52\n",
      "-0.9189385332046727\n",
      "[[0.02140104]]\n",
      "8.220699173572494e+52\n",
      "-0.9189385332046727\n",
      "[[0.0222446]]\n",
      "9.233454022832254e+52\n",
      "-0.9189385332046727\n",
      "[[0.02275417]]\n",
      "9.91959578888604e+52\n",
      "-0.9189385332046727\n",
      "[[0.02306472]]\n",
      "1.0368421179544452e+53\n",
      "-0.9189385332046727\n",
      "[[0.02325499]]\n",
      "1.0655712351656527e+53\n",
      "-0.9189385332046727\n",
      "[[0.02337196]]\n",
      "1.0837158487773078e+53\n",
      "-0.9189385332046727\n",
      "[[0.02344402]]\n",
      "1.095081053063782e+53\n",
      "-0.9189385332046727\n",
      "[[0.02348846]]\n",
      "1.1021635213324968e+53\n",
      "-0.9189385332046727\n",
      "[[0.02351589]]\n",
      "1.1065631779498104e+53\n",
      "-0.9189385332046727\n",
      "[[0.02353283]]\n",
      "1.1092909260036696e+53\n",
      "-0.9189385332046727\n",
      "[[0.0235433]]\n",
      "1.1109800644010615e+53\n",
      "-0.9189385332046727\n",
      "[[0.02354976]]\n",
      "1.1120252708205956e+53\n",
      "-0.9189385332046727\n",
      "[[0.02355376]]\n",
      "1.1126717262191976e+53\n",
      "-0.9189385332046727\n",
      "[[0.02355623]]\n",
      "1.1130714419634407e+53\n",
      "-0.9189385332046727\n",
      "[[0.02355775]]\n",
      "1.113318550317159e+53\n",
      "-0.9189385332046727\n",
      "[[0.0235587]]\n",
      "1.1134712985878405e+53\n",
      "-0.9189385332046727\n",
      "[[0.02355928]]\n",
      "1.1135657124930944e+53\n",
      "-0.9189385332046727\n",
      "[[0.02355964]]\n",
      "1.1136240674201419e+53\n",
      "-0.9189385332046727\n",
      "[[0.02355987]]\n",
      "1.1136618728857993e+53\n",
      "-0.9189385332046727\n"
     ]
    }
   ],
   "source": [
    "x_nm = minimize_scalar(log_p, method='Bounded', bounds=[0.001, 10])"
   ]
  },
  {
   "cell_type": "code",
   "execution_count": 181,
   "metadata": {},
   "outputs": [
    {
     "data": {
      "text/plain": [
       "     fun: array([[-1.11366187e+53]])\n",
       " message: 'Solution found.'\n",
       "    nfev: 30\n",
       "  status: 0\n",
       " success: True\n",
       "       x: 9.999994785747878"
      ]
     },
     "execution_count": 181,
     "metadata": {},
     "output_type": "execute_result"
    }
   ],
   "source": [
    "x_nm"
   ]
  },
  {
   "cell_type": "code",
   "execution_count": 182,
   "metadata": {},
   "outputs": [
    {
     "name": "stdout",
     "output_type": "stream",
     "text": [
      "[[221.93165102]]\n",
      "-0.02799208679273366\n",
      "-0.9189385332046727\n"
     ]
    },
    {
     "data": {
      "text/plain": [
       "array([[-220.9847204]])"
      ]
     },
     "execution_count": 182,
     "metadata": {},
     "output_type": "execute_result"
    }
   ],
   "source": [
    "log_p(0.817)"
   ]
  },
  {
   "cell_type": "code",
   "execution_count": 179,
   "metadata": {},
   "outputs": [
    {
     "name": "stderr",
     "output_type": "stream",
     "text": [
      "/Users/sjosund/.virtualenvs/koe/lib/python3.6/site-packages/ipykernel_launcher.py:5: RuntimeWarning: divide by zero encountered in double_scalars\n",
      "  \"\"\"\n",
      "/Users/sjosund/.virtualenvs/koe/lib/python3.6/site-packages/ipykernel_launcher.py:6: RuntimeWarning: invalid value encountered in sqrt\n",
      "  \n"
     ]
    },
    {
     "ename": "ValueError",
     "evalue": "shapes (20,20) and (10,1) not aligned: 20 (dim 1) != 10 (dim 0)",
     "output_type": "error",
     "traceback": [
      "\u001b[0;31m---------------------------------------------------------------------------\u001b[0m",
      "\u001b[0;31mValueError\u001b[0m                                Traceback (most recent call last)",
      "\u001b[0;32m<ipython-input-179-d5453f2908be>\u001b[0m in \u001b[0;36m<module>\u001b[0;34m()\u001b[0m\n\u001b[1;32m      4\u001b[0m     kernel=partial(\n\u001b[1;32m      5\u001b[0m         \u001b[0mmatern_kernel\u001b[0m\u001b[0;34m,\u001b[0m\u001b[0;34m\u001b[0m\u001b[0m\n\u001b[0;32m----> 6\u001b[0;31m         \u001b[0mp\u001b[0m\u001b[0;34m=\u001b[0m\u001b[0;34m-\u001b[0m\u001b[0;36m220.9847204\u001b[0m\u001b[0;34m\u001b[0m\u001b[0m\n\u001b[0m\u001b[1;32m      7\u001b[0m     )\n\u001b[1;32m      8\u001b[0m )\n",
      "\u001b[0;32m<ipython-input-172-dc4aa0d0eea3>\u001b[0m in \u001b[0;36mplot_in_range\u001b[0;34m(start, stop, kernel)\u001b[0m\n\u001b[1;32m      1\u001b[0m \u001b[0;32mdef\u001b[0m \u001b[0mplot_in_range\u001b[0m\u001b[0;34m(\u001b[0m\u001b[0mstart\u001b[0m\u001b[0;34m,\u001b[0m \u001b[0mstop\u001b[0m\u001b[0;34m,\u001b[0m \u001b[0mkernel\u001b[0m\u001b[0;34m)\u001b[0m\u001b[0;34m:\u001b[0m\u001b[0;34m\u001b[0m\u001b[0m\n\u001b[1;32m      2\u001b[0m     \u001b[0mX_new\u001b[0m \u001b[0;34m=\u001b[0m \u001b[0mnp\u001b[0m\u001b[0;34m.\u001b[0m\u001b[0marange\u001b[0m\u001b[0;34m(\u001b[0m\u001b[0mstart\u001b[0m\u001b[0;34m,\u001b[0m \u001b[0mstop\u001b[0m\u001b[0;34m,\u001b[0m \u001b[0;36m0.01\u001b[0m\u001b[0;34m)\u001b[0m\u001b[0;34m\u001b[0m\u001b[0m\n\u001b[0;32m----> 3\u001b[0;31m     \u001b[0mmeans_sigmas\u001b[0m \u001b[0;34m=\u001b[0m \u001b[0;34m[\u001b[0m\u001b[0mcompute_mean_var\u001b[0m\u001b[0;34m(\u001b[0m\u001b[0mx\u001b[0m\u001b[0;34m,\u001b[0m \u001b[0mkernel\u001b[0m\u001b[0;34m=\u001b[0m\u001b[0mkernel\u001b[0m\u001b[0;34m)\u001b[0m \u001b[0;32mfor\u001b[0m \u001b[0mx\u001b[0m \u001b[0;32min\u001b[0m \u001b[0mX_new\u001b[0m\u001b[0;34m]\u001b[0m\u001b[0;34m\u001b[0m\u001b[0m\n\u001b[0m\u001b[1;32m      4\u001b[0m     \u001b[0mmeans\u001b[0m \u001b[0;34m=\u001b[0m \u001b[0mnp\u001b[0m\u001b[0;34m.\u001b[0m\u001b[0mconcatenate\u001b[0m\u001b[0;34m(\u001b[0m\u001b[0mlist\u001b[0m\u001b[0;34m(\u001b[0m\u001b[0mzip\u001b[0m\u001b[0;34m(\u001b[0m\u001b[0;34m*\u001b[0m\u001b[0mmeans_sigmas\u001b[0m\u001b[0;34m)\u001b[0m\u001b[0;34m)\u001b[0m\u001b[0;34m[\u001b[0m\u001b[0;36m0\u001b[0m\u001b[0;34m]\u001b[0m\u001b[0;34m)\u001b[0m\u001b[0;34m.\u001b[0m\u001b[0mreshape\u001b[0m\u001b[0;34m(\u001b[0m\u001b[0;34m-\u001b[0m\u001b[0;36m1\u001b[0m\u001b[0;34m,\u001b[0m \u001b[0;36m1\u001b[0m\u001b[0;34m)\u001b[0m\u001b[0;34m\u001b[0m\u001b[0m\n\u001b[1;32m      5\u001b[0m     \u001b[0msigmas\u001b[0m \u001b[0;34m=\u001b[0m \u001b[0mnp\u001b[0m\u001b[0;34m.\u001b[0m\u001b[0mconcatenate\u001b[0m\u001b[0;34m(\u001b[0m\u001b[0mlist\u001b[0m\u001b[0;34m(\u001b[0m\u001b[0mzip\u001b[0m\u001b[0;34m(\u001b[0m\u001b[0;34m*\u001b[0m\u001b[0mmeans_sigmas\u001b[0m\u001b[0;34m)\u001b[0m\u001b[0;34m)\u001b[0m\u001b[0;34m[\u001b[0m\u001b[0;36m1\u001b[0m\u001b[0;34m]\u001b[0m\u001b[0;34m)\u001b[0m\u001b[0;34m.\u001b[0m\u001b[0mreshape\u001b[0m\u001b[0;34m(\u001b[0m\u001b[0;34m-\u001b[0m\u001b[0;36m1\u001b[0m\u001b[0;34m,\u001b[0m \u001b[0;36m1\u001b[0m\u001b[0;34m)\u001b[0m\u001b[0;34m\u001b[0m\u001b[0m\n",
      "\u001b[0;32m<ipython-input-172-dc4aa0d0eea3>\u001b[0m in \u001b[0;36m<listcomp>\u001b[0;34m(.0)\u001b[0m\n\u001b[1;32m      1\u001b[0m \u001b[0;32mdef\u001b[0m \u001b[0mplot_in_range\u001b[0m\u001b[0;34m(\u001b[0m\u001b[0mstart\u001b[0m\u001b[0;34m,\u001b[0m \u001b[0mstop\u001b[0m\u001b[0;34m,\u001b[0m \u001b[0mkernel\u001b[0m\u001b[0;34m)\u001b[0m\u001b[0;34m:\u001b[0m\u001b[0;34m\u001b[0m\u001b[0m\n\u001b[1;32m      2\u001b[0m     \u001b[0mX_new\u001b[0m \u001b[0;34m=\u001b[0m \u001b[0mnp\u001b[0m\u001b[0;34m.\u001b[0m\u001b[0marange\u001b[0m\u001b[0;34m(\u001b[0m\u001b[0mstart\u001b[0m\u001b[0;34m,\u001b[0m \u001b[0mstop\u001b[0m\u001b[0;34m,\u001b[0m \u001b[0;36m0.01\u001b[0m\u001b[0;34m)\u001b[0m\u001b[0;34m\u001b[0m\u001b[0m\n\u001b[0;32m----> 3\u001b[0;31m     \u001b[0mmeans_sigmas\u001b[0m \u001b[0;34m=\u001b[0m \u001b[0;34m[\u001b[0m\u001b[0mcompute_mean_var\u001b[0m\u001b[0;34m(\u001b[0m\u001b[0mx\u001b[0m\u001b[0;34m,\u001b[0m \u001b[0mkernel\u001b[0m\u001b[0;34m=\u001b[0m\u001b[0mkernel\u001b[0m\u001b[0;34m)\u001b[0m \u001b[0;32mfor\u001b[0m \u001b[0mx\u001b[0m \u001b[0;32min\u001b[0m \u001b[0mX_new\u001b[0m\u001b[0;34m]\u001b[0m\u001b[0;34m\u001b[0m\u001b[0m\n\u001b[0m\u001b[1;32m      4\u001b[0m     \u001b[0mmeans\u001b[0m \u001b[0;34m=\u001b[0m \u001b[0mnp\u001b[0m\u001b[0;34m.\u001b[0m\u001b[0mconcatenate\u001b[0m\u001b[0;34m(\u001b[0m\u001b[0mlist\u001b[0m\u001b[0;34m(\u001b[0m\u001b[0mzip\u001b[0m\u001b[0;34m(\u001b[0m\u001b[0;34m*\u001b[0m\u001b[0mmeans_sigmas\u001b[0m\u001b[0;34m)\u001b[0m\u001b[0;34m)\u001b[0m\u001b[0;34m[\u001b[0m\u001b[0;36m0\u001b[0m\u001b[0;34m]\u001b[0m\u001b[0;34m)\u001b[0m\u001b[0;34m.\u001b[0m\u001b[0mreshape\u001b[0m\u001b[0;34m(\u001b[0m\u001b[0;34m-\u001b[0m\u001b[0;36m1\u001b[0m\u001b[0;34m,\u001b[0m \u001b[0;36m1\u001b[0m\u001b[0;34m)\u001b[0m\u001b[0;34m\u001b[0m\u001b[0m\n\u001b[1;32m      5\u001b[0m     \u001b[0msigmas\u001b[0m \u001b[0;34m=\u001b[0m \u001b[0mnp\u001b[0m\u001b[0;34m.\u001b[0m\u001b[0mconcatenate\u001b[0m\u001b[0;34m(\u001b[0m\u001b[0mlist\u001b[0m\u001b[0;34m(\u001b[0m\u001b[0mzip\u001b[0m\u001b[0;34m(\u001b[0m\u001b[0;34m*\u001b[0m\u001b[0mmeans_sigmas\u001b[0m\u001b[0;34m)\u001b[0m\u001b[0;34m)\u001b[0m\u001b[0;34m[\u001b[0m\u001b[0;36m1\u001b[0m\u001b[0;34m]\u001b[0m\u001b[0;34m)\u001b[0m\u001b[0;34m.\u001b[0m\u001b[0mreshape\u001b[0m\u001b[0;34m(\u001b[0m\u001b[0;34m-\u001b[0m\u001b[0;36m1\u001b[0m\u001b[0;34m,\u001b[0m \u001b[0;36m1\u001b[0m\u001b[0;34m)\u001b[0m\u001b[0;34m\u001b[0m\u001b[0m\n",
      "\u001b[0;32m<ipython-input-171-67a74b95fdbd>\u001b[0m in \u001b[0;36mcompute_mean_var\u001b[0;34m(x_new, kernel)\u001b[0m\n\u001b[1;32m      1\u001b[0m \u001b[0;32mdef\u001b[0m \u001b[0mcompute_mean_var\u001b[0m\u001b[0;34m(\u001b[0m\u001b[0mx_new\u001b[0m\u001b[0;34m,\u001b[0m \u001b[0mkernel\u001b[0m\u001b[0;34m)\u001b[0m\u001b[0;34m:\u001b[0m\u001b[0;34m\u001b[0m\u001b[0m\n\u001b[1;32m      2\u001b[0m     \u001b[0mk\u001b[0m \u001b[0;34m=\u001b[0m \u001b[0mcompute_k_new_observation\u001b[0m\u001b[0;34m(\u001b[0m\u001b[0mX\u001b[0m\u001b[0;34m,\u001b[0m \u001b[0mx_new\u001b[0m\u001b[0;34m,\u001b[0m \u001b[0mkernel\u001b[0m\u001b[0;34m=\u001b[0m\u001b[0mkernel\u001b[0m\u001b[0;34m)\u001b[0m\u001b[0;34m\u001b[0m\u001b[0m\n\u001b[0;32m----> 3\u001b[0;31m     \u001b[0;32mreturn\u001b[0m \u001b[0mcompute_mean\u001b[0m\u001b[0;34m(\u001b[0m\u001b[0mk\u001b[0m\u001b[0;34m=\u001b[0m\u001b[0mk\u001b[0m\u001b[0;34m,\u001b[0m \u001b[0mK_inv\u001b[0m\u001b[0;34m=\u001b[0m\u001b[0mK_inv\u001b[0m\u001b[0;34m,\u001b[0m \u001b[0mf\u001b[0m\u001b[0;34m=\u001b[0m\u001b[0my\u001b[0m\u001b[0;34m)\u001b[0m\u001b[0;34m,\u001b[0m \u001b[0mcompute_variance\u001b[0m\u001b[0;34m(\u001b[0m\u001b[0mx_new\u001b[0m\u001b[0;34m=\u001b[0m\u001b[0mx_new\u001b[0m\u001b[0;34m,\u001b[0m \u001b[0mk\u001b[0m\u001b[0;34m=\u001b[0m\u001b[0mk\u001b[0m\u001b[0;34m,\u001b[0m \u001b[0mK_inv\u001b[0m\u001b[0;34m=\u001b[0m\u001b[0mK_inv\u001b[0m\u001b[0;34m,\u001b[0m \u001b[0mkernel\u001b[0m\u001b[0;34m=\u001b[0m\u001b[0mkernel\u001b[0m\u001b[0;34m)\u001b[0m\u001b[0;34m\u001b[0m\u001b[0m\n\u001b[0m",
      "\u001b[0;32m<ipython-input-169-066fa0907bbb>\u001b[0m in \u001b[0;36mcompute_mean\u001b[0;34m(k, K_inv, f)\u001b[0m\n\u001b[1;32m     22\u001b[0m \u001b[0;34m\u001b[0m\u001b[0m\n\u001b[1;32m     23\u001b[0m \u001b[0;32mdef\u001b[0m \u001b[0mcompute_mean\u001b[0m\u001b[0;34m(\u001b[0m\u001b[0mk\u001b[0m\u001b[0;34m,\u001b[0m \u001b[0mK_inv\u001b[0m\u001b[0;34m,\u001b[0m \u001b[0mf\u001b[0m\u001b[0;34m)\u001b[0m\u001b[0;34m:\u001b[0m\u001b[0;34m\u001b[0m\u001b[0m\n\u001b[0;32m---> 24\u001b[0;31m     \u001b[0;32mreturn\u001b[0m \u001b[0mnp\u001b[0m\u001b[0;34m.\u001b[0m\u001b[0mdot\u001b[0m\u001b[0;34m(\u001b[0m\u001b[0mk\u001b[0m\u001b[0;34m.\u001b[0m\u001b[0mT\u001b[0m\u001b[0;34m,\u001b[0m \u001b[0mnp\u001b[0m\u001b[0;34m.\u001b[0m\u001b[0mdot\u001b[0m\u001b[0;34m(\u001b[0m\u001b[0mK_inv\u001b[0m\u001b[0;34m,\u001b[0m \u001b[0mf\u001b[0m\u001b[0;34m)\u001b[0m\u001b[0;34m)\u001b[0m\u001b[0;34m\u001b[0m\u001b[0m\n\u001b[0m\u001b[1;32m     25\u001b[0m \u001b[0;34m\u001b[0m\u001b[0m\n\u001b[1;32m     26\u001b[0m \u001b[0;32mdef\u001b[0m \u001b[0mcompute_variance\u001b[0m\u001b[0;34m(\u001b[0m\u001b[0mx_new\u001b[0m\u001b[0;34m,\u001b[0m \u001b[0mk\u001b[0m\u001b[0;34m,\u001b[0m \u001b[0mK_inv\u001b[0m\u001b[0;34m,\u001b[0m \u001b[0mkernel\u001b[0m\u001b[0;34m)\u001b[0m\u001b[0;34m:\u001b[0m\u001b[0;34m\u001b[0m\u001b[0m\n",
      "\u001b[0;31mValueError\u001b[0m: shapes (20,20) and (10,1) not aligned: 20 (dim 1) != 10 (dim 0)"
     ]
    }
   ],
   "source": [
    "plot_in_range(\n",
    "    start=0,\n",
    "    stop=10,\n",
    "    kernel=partial(\n",
    "        matern_kernel,\n",
    "        p=-220.9847204\n",
    "    )\n",
    ")"
   ]
  },
  {
   "cell_type": "code",
   "execution_count": null,
   "metadata": {},
   "outputs": [],
   "source": []
  }
 ],
 "metadata": {
  "kernelspec": {
   "display_name": "Python 3",
   "language": "python",
   "name": "python3"
  },
  "language_info": {
   "codemirror_mode": {
    "name": "ipython",
    "version": 3
   },
   "file_extension": ".py",
   "mimetype": "text/x-python",
   "name": "python",
   "nbconvert_exporter": "python",
   "pygments_lexer": "ipython3",
   "version": "3.6.4"
  }
 },
 "nbformat": 4,
 "nbformat_minor": 2
}
