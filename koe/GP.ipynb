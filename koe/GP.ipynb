{
 "cells": [
  {
   "cell_type": "code",
   "execution_count": 1,
   "metadata": {},
   "outputs": [],
   "source": [
    "from functools import partial\n",
    "\n",
    "import matplotlib.pyplot as plt\n",
    "from matplotlib import animation\n",
    "import numpy as np\n",
    "from scipy.optimize import minimize\n",
    "from scipy.special import gamma, jv\n",
    "from IPython.display import HTML\n",
    "\n",
    "from scipy.stats import norm"
   ]
  },
  {
   "cell_type": "markdown",
   "metadata": {},
   "source": [
    "## Data generation"
   ]
  },
  {
   "cell_type": "code",
   "execution_count": 2,
   "metadata": {},
   "outputs": [],
   "source": [
    "def sin(X):\n",
    "    y = 10 + np.sin(X) + 0.2 * np.random.randn(X.shape[0])\n",
    "    return y\n",
    "\n",
    "def generate_data(n=10, f=sin):\n",
    "    X = 10 * np.random.random(n)\n",
    "    y = f(X)\n",
    "    \n",
    "    X = X.reshape(-1, 1)\n",
    "    y = y.reshape(-1, 1)\n",
    "    \n",
    "    return X, y"
   ]
  },
  {
   "cell_type": "markdown",
   "metadata": {},
   "source": [
    "## GP helper functions"
   ]
  },
  {
   "cell_type": "code",
   "execution_count": 3,
   "metadata": {},
   "outputs": [],
   "source": [
    "def squared_exponential_kernel(x1, x2, sigma_f, sigma_n, theta):\n",
    "    t1 = sigma_f**2 * np.exp(-1/(2 * theta**2) * (x1 - x2)**2)\n",
    "    t2 = sigma_n**2 * np.float(x1 == x2)\n",
    "    return t1 + t2\n",
    "\n",
    "def matern_kernel(x1, x2, p):\n",
    "    k = 1 / (2**(p - 1) * gamma(p))\n",
    "    x = 2 * np.sqrt(p) * np.linalg.norm(x1 - x2)\n",
    "    f1 = x**p\n",
    "    f2 = jv(p, x)\n",
    "    return k * f1 * f2\n",
    "\n",
    "def compute_K(X, kernel):\n",
    "    K = np.zeros((X.shape[0], X.shape[0]))\n",
    "    for i in range(X.shape[0]):\n",
    "        for j in range(i, X.shape[0]):\n",
    "            K[i, j] = kernel(X[i], X[j])\n",
    "            K[j, i] = K[i, j]\n",
    "    return K\n",
    "\n",
    "def compute_k_new_observation(X, x_new, kernel):\n",
    "    k = np.array([kernel(x_new, x) for x in X]).reshape(-1, 1)\n",
    "    return k\n",
    "\n",
    "def compute_mean(k, K_inv, f):\n",
    "    return np.dot(k.T, np.dot(K_inv, f))\n",
    "\n",
    "def compute_variance(x_new, k, K_inv, kernel):\n",
    "    return kernel(x_new, x_new) - np.dot(k.T, np.dot(K_inv, k))\n",
    "\n",
    "def compute_mean_var(X, y, x_new, kernel, K_inv):\n",
    "    k = compute_k_new_observation(X, x_new, kernel=kernel)\n",
    "    return compute_mean(k=k, K_inv=K_inv, f=y), compute_variance(x_new=x_new, k=k, K_inv=K_inv, kernel=kernel)\n",
    "\n",
    "def means_sigmas_in_range(X, y, X_new, kernel):\n",
    "    K = compute_K(X, kernel=kernel)\n",
    "    K_inv = np.linalg.inv(K)\n",
    "    \n",
    "    means_sigmas = [compute_mean_var(X=X, y=y, x_new=x, kernel=kernel, K_inv=K_inv) for x in X_new]\n",
    "    means = np.concatenate(list(zip(*means_sigmas))[0]).reshape(-1, 1)\n",
    "    sigmas = np.concatenate(list(zip(*means_sigmas))[1]).reshape(-1, 1)\n",
    "\n",
    "    return means, sigmas\n",
    "\n",
    "\n",
    "def plot_in_range(X, y, X_range, kernel, fig=None, ax=None):\n",
    "    means, sigmas = means_sigmas_in_range(X=X, y=y, X_new=X_range, kernel=kernel)\n",
    "    \n",
    "    if ax is None:\n",
    "        fig, ax = plt.subplots(1, 1, figsize=(12, 12))\n",
    "    means_plot, = ax.plot(X_range, means, color='b')\n",
    "    fill_plot = ax.fill_between(\n",
    "        X_range,\n",
    "        (means - 1.96 * sigmas).reshape(-1),\n",
    "        (means + 1.96 * sigmas).reshape(-1),\n",
    "        alpha=0.1,\n",
    "        color='b'\n",
    "    )\n",
    "    scatter_plot = ax.scatter(X, y, color='r')\n",
    "    return fig, [means_plot, fill_plot, scatter_plot]"
   ]
  },
  {
   "cell_type": "markdown",
   "metadata": {},
   "source": [
    "### Find the optimal parameters for our covariance function by maximizing log(p(y|x, theta))"
   ]
  },
  {
   "cell_type": "markdown",
   "metadata": {},
   "source": [
    "### Helper functions"
   ]
  },
  {
   "cell_type": "code",
   "execution_count": 4,
   "metadata": {},
   "outputs": [],
   "source": [
    "from time import time\n",
    "\n",
    "def log_p(params, X, y):\n",
    "    params = params.flatten()\n",
    "    theta, sigma_f, sigma_n = params[0], params[1], params[2]\n",
    "    if theta == 0:\n",
    "        return 0.\n",
    "    kernel = partial(\n",
    "        squared_exponential_kernel,\n",
    "        theta=theta,\n",
    "        sigma_f=sigma_f,\n",
    "        sigma_n=sigma_n\n",
    "    )\n",
    "#     t0 = time()\n",
    "    K = compute_K(X, kernel=kernel)\n",
    "#     comp_t = time() - t0\n",
    "    n = K.shape[0]\n",
    "#     t0 = time()\n",
    "    K_inv = np.linalg.inv(K)\n",
    "#     inv_t = time() - t0\n",
    "#     print(f'Comp K: {comp_t}, inv:{inv_t}')\n",
    "\n",
    "    t1 = -1/2 * np.dot(y.T, np.dot(K_inv, y))\n",
    "    t2 = - 1/ 2 * np.log(np.linalg.det(K))\n",
    "    t3 = - n / 2 * np.log(2 * np.pi)\n",
    "\n",
    "    _log_p = t1 + t2 + t3\n",
    "    \n",
    "    return -_log_p\n",
    "\n",
    "def expected_improvement(mu, sigma, f_max):\n",
    "    xi = 0.1\n",
    "    if sigma == 0:\n",
    "        return 0\n",
    "\n",
    "    Z = get_Z(mu=mu, f_max=f_max, sigma=sigma, xi=xi)\n",
    "    res = (mu - f_max - xi) * norm.cdf(Z) + sigma * norm.pdf(Z)\n",
    "    \n",
    "    return res\n",
    "\n",
    "def get_Z(mu, f_max, sigma, xi):\n",
    "    if sigma == 0:\n",
    "        return 0\n",
    "    else:\n",
    "        return (mu - f_max - xi) / sigma\n",
    "    \n",
    "def get_optimal_kernel(X, y):\n",
    "    x_nm = minimize(\n",
    "        partial(log_p, X=X, y=y),\n",
    "        x0=[0.1, 0.1, 0.1],\n",
    "        method='Nelder-Mead',\n",
    "        options={'xatol': 1e-5, 'maxiter': 100000}\n",
    "    )\n",
    "    kernel = partial(\n",
    "        squared_exponential_kernel,\n",
    "        theta=x_nm.x[0],\n",
    "        sigma_f=x_nm.x[1],\n",
    "        sigma_n=x_nm.x[2]\n",
    "    )\n",
    "    return kernel\n",
    "\n",
    "def sample_new_point(X, y, kernel, X_range):\n",
    "    means, sigmas = means_sigmas_in_range(X=X, y=y, X_new=X_range, kernel=kernel)\n",
    "    expected_improvements = np.array([\n",
    "        expected_improvement(mu=mu, sigma=sigma, f_max=y.max()) for mu, sigma in zip(means, sigmas)\n",
    "    ])\n",
    "    X_suggested = np.array([X_range[expected_improvements.argmax()]])\n",
    "    y_suggested = f_true(X_suggested)\n",
    "    X_suggested = X_suggested.reshape(-1, 1)\n",
    "    y_suggested = y_suggested.reshape(-1, 1)\n",
    "    \n",
    "    return X_suggested, y_suggested"
   ]
  },
  {
   "cell_type": "code",
   "execution_count": 6,
   "metadata": {},
   "outputs": [
    {
     "data": {
      "image/png": "[encoded data removed]",
      "text/plain": [
       "<Figure size 432x288 with 1 Axes>"
      ]
     },
     "metadata": {},
     "output_type": "display_data"
    }
   ],
   "source": [
    "# Generate data\n",
    "f_true = sin\n",
    "X, y = generate_data(n=3, f=f_true)\n",
    "\n",
    "# Range to optimize in\n",
    "X_range = np.arange(0, 10, 0.01)\n",
    "imgs = []\n",
    "\n",
    "fig, ax = plt.subplots()\n",
    "\n",
    "kernel = get_optimal_kernel(X=X, y=y)\n",
    "_, img = plot_in_range(\n",
    "    X_range=X_range,\n",
    "    kernel=kernel,\n",
    "    X=X,\n",
    "    y=y,\n",
    "    ax=ax,\n",
    "    fig=fig\n",
    ")\n",
    "imgs.append(img)\n",
    "\n",
    "for _ in range(10):\n",
    "    kernel = get_optimal_kernel(X=X, y=y)\n",
    "    X_sampled, y_sampled = sample_new_point(X=X, y=y, X_range=X_range, kernel=kernel)\n",
    "    \n",
    "    X = np.concatenate([X, X_sampled], axis=0)\n",
    "    y = np.concatenate([y, y_sampled], axis=0)\n",
    "\n",
    "    _, img = plot_in_range(\n",
    "        X_range=X_range,\n",
    "        kernel=kernel,\n",
    "        X=X,\n",
    "        y=y,\n",
    "        ax=ax,\n",
    "        fig=fig\n",
    "    )\n",
    "    imgs.append(img)\n",
    "\n",
    "# ani = animation.ArtistAnimation(fig, imgs, interval=500, blit=False)\n",
    "# HTML(ani.to_html5_video())"
   ]
  },
  {
   "cell_type": "code",
   "execution_count": 26,
   "metadata": {},
   "outputs": [],
   "source": [
    "a = np.random.randint(0, high=100, size=(1000, 1000))"
   ]
  },
  {
   "cell_type": "code",
   "execution_count": 20,
   "metadata": {},
   "outputs": [
    {
     "name": "stdout",
     "output_type": "stream",
     "text": [
      "62.5 ms ± 1.83 ms per loop (mean ± std. dev. of 7 runs, 10 loops each)\n"
     ]
    }
   ],
   "source": [
    "%timeit np.linalg.inv(a)"
   ]
  },
  {
   "cell_type": "code",
   "execution_count": null,
   "metadata": {},
   "outputs": [],
   "source": []
  }
 ],
 "metadata": {
  "kernelspec": {
   "display_name": "Python 3",
   "language": "python",
   "name": "python3"
  },
  "language_info": {
   "codemirror_mode": {
    "name": "ipython",
    "version": 3
   },
   "file_extension": ".py",
   "mimetype": "text/x-python",
   "name": "python",
   "nbconvert_exporter": "python",
   "pygments_lexer": "ipython3",
   "version": "3.6.5"
  }
 },
 "nbformat": 4,
 "nbformat_minor": 2
}
