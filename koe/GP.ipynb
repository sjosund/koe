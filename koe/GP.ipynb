{
 "cells": [
  {
   "cell_type": "code",
   "execution_count": 101,
   "metadata": {},
   "outputs": [],
   "source": [
    "from functools import partial\n",
    "\n",
    "import matplotlib.pyplot as plt\n",
    "import numpy as np\n",
    "from scipy.optimize import minimize\n",
    "from scipy.special import gamma, jv"
   ]
  },
  {
   "cell_type": "code",
   "execution_count": 139,
   "metadata": {},
   "outputs": [],
   "source": [
    "def generate_data(n=20):\n",
    "    X = 10 * np.random.random(size=n).reshape(-1, 1)\n",
    "#     y = np.sin(X).reshape(-1, 1) + 0.2 * np.random.randn()\n",
    "#     y = 2 * X + 0.5 * np.random.randn(len(X), 1)\n",
    "    y = 0.1 * X**2 + 0.2 * X + 1 + 3 * np.random.randn()\n",
    "    \n",
    "    return X, y"
   ]
  },
  {
   "cell_type": "code",
   "execution_count": 140,
   "metadata": {},
   "outputs": [],
   "source": [
    "def squared_exponential_kernel(x1, x2, sigma_f, sigma_n, theta):\n",
    "    t1 = sigma_f**2 * np.exp(-1/(2 * theta**2) * (x1 - x2)**2)\n",
    "    t2 = sigma_n**2 * np.float(x1 == x2)\n",
    "    return t1 + t2\n",
    "\n",
    "def matern_kernel(x1, x2, p):\n",
    "    k = 1 / (2**(p - 1) * gamma(p))\n",
    "    x = 2 * np.sqrt(p) * np.linalg.norm(x1 - x2)\n",
    "    f1 = x**p\n",
    "    f2 = jv(p, x)\n",
    "    return k * f1 * f2\n",
    "\n",
    "def compute_K(X, kernel):\n",
    "    K = np.zeros((X.shape[0], X.shape[0]))\n",
    "    for i in range(X.shape[0]):\n",
    "        for j in range(i, X.shape[0]):\n",
    "            K[i, j] = kernel(X[i], X[j])\n",
    "            K[j, i] = K[i, j]\n",
    "    return K\n",
    "\n",
    "def compute_k_new_observation(X, x_new, kernel):\n",
    "    k = np.array([kernel(x_new, x) for x in X]).reshape(-1, 1)\n",
    "    return k\n",
    "\n",
    "def compute_mean(k, K_inv, f):\n",
    "    return np.dot(k.T, np.dot(K_inv, f))\n",
    "\n",
    "def compute_variance(x_new, k, K_inv, kernel):\n",
    "    return kernel(x_new, x_new) - np.dot(k.T, np.dot(K_inv, k))"
   ]
  },
  {
   "cell_type": "code",
   "execution_count": 141,
   "metadata": {},
   "outputs": [],
   "source": [
    "def compute_mean_var(X, y, x_new, kernel, K_inv):\n",
    "    k = compute_k_new_observation(X, x_new, kernel=kernel)\n",
    "    return compute_mean(k=k, K_inv=K_inv, f=y), compute_variance(x_new=x_new, k=k, K_inv=K_inv, kernel=kernel)"
   ]
  },
  {
   "cell_type": "code",
   "execution_count": 142,
   "metadata": {},
   "outputs": [],
   "source": [
    "def plot_in_range(X, y, start, stop, kernel):\n",
    "    X_new = np.arange(start, stop, 0.01)\n",
    "\n",
    "    K = compute_K(X, kernel=kernel)\n",
    "    K_inv = np.linalg.inv(K)\n",
    "    \n",
    "    means_sigmas = [compute_mean_var(X=X, y=y, x_new=x, kernel=kernel, K_inv=K_inv) for x in X_new]\n",
    "    means = np.concatenate(list(zip(*means_sigmas))[0]).reshape(-1, 1)\n",
    "    sigmas = np.concatenate(list(zip(*means_sigmas))[1]).reshape(-1, 1)\n",
    "    \n",
    "    plt.plot(X_new, means)\n",
    "    plt.fill_between(\n",
    "        X_new,\n",
    "        (means - sigmas).reshape(-1),\n",
    "        (means + sigmas).reshape(-1),\n",
    "        alpha=0.1\n",
    "    )\n",
    "    plt.scatter(X, y)"
   ]
  },
  {
   "cell_type": "markdown",
   "metadata": {},
   "source": [
    "### Find the optimal parameters for our covariance function by maximizing log(p(y|x, theta))"
   ]
  },
  {
   "cell_type": "code",
   "execution_count": 158,
   "metadata": {},
   "outputs": [
    {
     "data": {
      "text/plain": [
       "<matplotlib.collections.PathCollection at 0x107539358>"
      ]
     },
     "execution_count": 158,
     "metadata": {},
     "output_type": "execute_result"
    },
    {
     "data": {
      "image/png": "[encoded data removed]",
      "text/plain": [
       "<matplotlib.figure.Figure at 0x107f9e550>"
      ]
     },
     "metadata": {},
     "output_type": "display_data"
    }
   ],
   "source": [
    "X, y = generate_data(n=40)\n",
    "plt.scatter(X, y)"
   ]
  },
  {
   "cell_type": "code",
   "execution_count": 159,
   "metadata": {},
   "outputs": [],
   "source": [
    "def log_p(params):\n",
    "    params = params.flatten()\n",
    "    theta, sigma_f, sigma_n = params[0], params[1], params[2]\n",
    "    if theta == 0:\n",
    "        return 0.\n",
    "#     kernel = partial(matern_kernel, p=theta)\n",
    "    kernel = partial(\n",
    "        squared_exponential_kernel,\n",
    "        theta=theta,\n",
    "        sigma_f=sigma_f,\n",
    "        sigma_n=sigma_n\n",
    "    )\n",
    "    K = compute_K(X, kernel=kernel)\n",
    "    n = K.shape[0]\n",
    "    K_inv = np.linalg.inv(K)\n",
    "\n",
    "    t1 = -1/2 * np.dot(y.T, np.dot(K_inv, y))\n",
    "    t2 = - 1/ 2 * np.log(np.linalg.det(K))\n",
    "    t3 = - n / 2 * np.log(2 * np.pi)\n",
    "\n",
    "    _log_p = t1 + t2 + t3\n",
    "    \n",
    "    return -_log_p"
   ]
  },
  {
   "cell_type": "code",
   "execution_count": null,
   "metadata": {},
   "outputs": [],
   "source": []
  },
  {
   "cell_type": "code",
   "execution_count": 166,
   "metadata": {},
   "outputs": [
    {
     "ename": "SyntaxError",
     "evalue": "invalid syntax (<ipython-input-166-e7ec95e4cf0f>, line 2)",
     "output_type": "error",
     "traceback": [
      "\u001b[0;36m  File \u001b[0;32m\"<ipython-input-166-e7ec95e4cf0f>\"\u001b[0;36m, line \u001b[0;32m2\u001b[0m\n\u001b[0;31m    x_nm = minimize(log_p, x0=[0.1, 0.1, 0.1], method='Nelder-Mead', options={'xatol': 1e-5, maxiter=20})\u001b[0m\n\u001b[0m                                                                                                    ^\u001b[0m\n\u001b[0;31mSyntaxError\u001b[0m\u001b[0;31m:\u001b[0m invalid syntax\n"
     ]
    }
   ],
   "source": [
    "# x_nm = minimize_scalar(log_p, method='Bounded', bounds=[0.01, 2])\n",
    "x_nm = minimize(log_p, x0=[0.1, 0.1, 0.1], method='Nelder-Mead', options={'xatol': 1e-5, 'maxiter':20})"
   ]
  },
  {
   "cell_type": "code",
   "execution_count": 161,
   "metadata": {},
   "outputs": [
    {
     "data": {
      "text/plain": [
       " final_simplex: (array([[-9.99338949e-01,  2.73568733e+00, -2.38348270e-08],\n",
       "       [-9.99338949e-01,  2.73568733e+00, -2.38348270e-08],\n",
       "       [-9.99338949e-01,  2.73568733e+00, -2.38348270e-08],\n",
       "       [-9.99338949e-01,  2.73568733e+00, -2.38348270e-08]]), array([-312.01130266, -250.48148138, -250.48148138, -241.23099451]))\n",
       "           fun: -312.011302656498\n",
       "       message: 'Maximum number of function evaluations has been exceeded.'\n",
       "          nfev: 604\n",
       "           nit: 231\n",
       "        status: 1\n",
       "       success: False\n",
       "             x: array([-9.99338949e-01,  2.73568733e+00, -2.38348270e-08])"
      ]
     },
     "execution_count": 161,
     "metadata": {},
     "output_type": "execute_result"
    }
   ],
   "source": [
    "x_nm"
   ]
  },
  {
   "cell_type": "code",
   "execution_count": 129,
   "metadata": {},
   "outputs": [],
   "source": [
    "# xx = np.arange(0.001, x_nm.x + 0.05, 0.001)\n",
    "# log_ps = np.array([log_p(x) for x in xx]).flatten()\n",
    "# plt.plot(xx, log_ps)"
   ]
  },
  {
   "cell_type": "code",
   "execution_count": 130,
   "metadata": {},
   "outputs": [
    {
     "data": {
      "image/png": "[encoded data removed]",
      "text/plain": [
       "<matplotlib.figure.Figure at 0x1075de860>"
      ]
     },
     "metadata": {},
     "output_type": "display_data"
    }
   ],
   "source": [
    "plot_in_range(\n",
    "    start=0,\n",
    "    stop=10,\n",
    "    kernel=partial(\n",
    "        squared_exponential_kernel,\n",
    "        theta=x_nm.x[0],\n",
    "        sigma_f=x_nm.x[1],\n",
    "        sigma_n=x_nm.x[2]\n",
    "    ),\n",
    "    X=X,\n",
    "    y=y\n",
    ")"
   ]
  },
  {
   "cell_type": "code",
   "execution_count": null,
   "metadata": {},
   "outputs": [],
   "source": []
  },
  {
   "cell_type": "code",
   "execution_count": null,
   "metadata": {},
   "outputs": [],
   "source": []
  }
 ],
 "metadata": {
  "kernelspec": {
   "display_name": "Python 3",
   "language": "python",
   "name": "python3"
  },
  "language_info": {
   "codemirror_mode": {
    "name": "ipython",
    "version": 3
   },
   "file_extension": ".py",
   "mimetype": "text/x-python",
   "name": "python",
   "nbconvert_exporter": "python",
   "pygments_lexer": "ipython3",
   "version": "3.6.4"
  }
 },
 "nbformat": 4,
 "nbformat_minor": 2
}
